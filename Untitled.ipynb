{
 "cells": [
  {
   "cell_type": "code",
   "execution_count": 21,
   "metadata": {},
   "outputs": [],
   "source": [
    "import numpy as np\n",
    "import scipy.linalg as spl"
   ]
  },
  {
   "cell_type": "code",
   "execution_count": 33,
   "metadata": {},
   "outputs": [],
   "source": [
    "a = np.random.random(size=(5,5))\n",
    "a = np.triu(a)\n",
    "A = a + a.T"
   ]
  },
  {
   "cell_type": "code",
   "execution_count": 36,
   "metadata": {},
   "outputs": [],
   "source": [
    "#A=np.divide(a,np.sum(a,axis=1).reshape(5,1))\n",
    "D = np.diag(np.sum(A,axis=1),0)\n",
    "L = D - A"
   ]
  },
  {
   "cell_type": "code",
   "execution_count": 37,
   "metadata": {},
   "outputs": [],
   "source": [
    "u,v = spl.eigh(L,eigvals=(0,1))"
   ]
  },
  {
   "cell_type": "code",
   "execution_count": 38,
   "metadata": {},
   "outputs": [
    {
     "data": {
      "text/plain": [
       "array([-4.71167208e-16,  1.11484755e+00])"
      ]
     },
     "execution_count": 38,
     "metadata": {},
     "output_type": "execute_result"
    }
   ],
   "source": [
    "u"
   ]
  },
  {
   "cell_type": "code",
   "execution_count": 39,
   "metadata": {},
   "outputs": [],
   "source": [
    "U,V = spl.eig(L)"
   ]
  },
  {
   "cell_type": "code",
   "execution_count": 40,
   "metadata": {},
   "outputs": [
    {
     "data": {
      "text/plain": [
       "array([0.        +0.j, 1.11484755+0.j, 3.34882802+0.j, 2.0431553 +0.j,\n",
       "       2.5734786 +0.j])"
      ]
     },
     "execution_count": 40,
     "metadata": {},
     "output_type": "execute_result"
    }
   ],
   "source": [
    "U"
   ]
  },
  {
   "cell_type": "code",
   "execution_count": 41,
   "metadata": {},
   "outputs": [
    {
     "data": {
      "text/plain": [
       "array([[-0.4472136 , -0.80375531,  0.0543127 , -0.36547424,  0.13212162],\n",
       "       [-0.4472136 ,  0.35173029, -0.37222713, -0.48153933, -0.55303946],\n",
       "       [-0.4472136 ,  0.38811766, -0.18971282, -0.05201086,  0.78145287],\n",
       "       [-0.4472136 ,  0.22891283,  0.84273782,  0.11208009, -0.15757516],\n",
       "       [-0.4472136 , -0.16500548, -0.33511057,  0.78694433, -0.20295988]])"
      ]
     },
     "execution_count": 41,
     "metadata": {},
     "output_type": "execute_result"
    }
   ],
   "source": [
    "V"
   ]
  },
  {
   "cell_type": "code",
   "execution_count": 42,
   "metadata": {},
   "outputs": [
    {
     "data": {
      "text/plain": [
       "array([[-0.4472136 ,  0.80375531],\n",
       "       [-0.4472136 , -0.35173029],\n",
       "       [-0.4472136 , -0.38811766],\n",
       "       [-0.4472136 , -0.22891283],\n",
       "       [-0.4472136 ,  0.16500548]])"
      ]
     },
     "execution_count": 42,
     "metadata": {},
     "output_type": "execute_result"
    }
   ],
   "source": [
    "v"
   ]
  },
  {
   "cell_type": "code",
   "execution_count": 45,
   "metadata": {},
   "outputs": [
    {
     "data": {
      "text/plain": [
       "array([[0.        , 0.21133999, 0.07774316, 0.18911023, 0.56973203],\n",
       "       [0.        , 0.        , 0.67234726, 0.84673544, 0.1323624 ],\n",
       "       [0.        , 0.        , 0.        , 0.76515795, 0.35028413],\n",
       "       [0.        , 0.        , 0.        , 0.        , 0.72534214],\n",
       "       [0.        , 0.        , 0.        , 0.        , 0.        ]])"
      ]
     },
     "execution_count": 45,
     "metadata": {},
     "output_type": "execute_result"
    }
   ],
   "source": [
    "np.triu(A,1)"
   ]
  },
  {
   "cell_type": "code",
   "execution_count": null,
   "metadata": {},
   "outputs": [],
   "source": []
  }
 ],
 "metadata": {
  "kernelspec": {
   "display_name": "Python 3",
   "language": "python",
   "name": "python3"
  },
  "language_info": {
   "codemirror_mode": {
    "name": "ipython",
    "version": 3
   },
   "file_extension": ".py",
   "mimetype": "text/x-python",
   "name": "python",
   "nbconvert_exporter": "python",
   "pygments_lexer": "ipython3",
   "version": "3.7.3"
  }
 },
 "nbformat": 4,
 "nbformat_minor": 2
}
